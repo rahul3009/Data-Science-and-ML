{
 "cells": [
  {
   "cell_type": "markdown",
   "metadata": {},
   "source": [
    "# Pandas"
   ]
  },
  {
   "cell_type": "code",
   "execution_count": 1,
   "metadata": {
    "collapsed": true
   },
   "outputs": [],
   "source": [
    "import numpy as np\n",
    "import pandas as pd"
   ]
  },
  {
   "cell_type": "markdown",
   "metadata": {},
   "source": [
    "# pd.Series(data,index=index)"
   ]
  },
  {
   "cell_type": "markdown",
   "metadata": {},
   "source": [
    "# Here data can be:\n",
    " - an ndarray\n",
    " - a python dictionary\n",
    " - a scalar value (like 5)\n",
    "### The passed index is a list of axis labels.\n",
    "\n",
    "# ndarray"
   ]
  },
  {
   "cell_type": "code",
   "execution_count": 2,
   "metadata": {},
   "outputs": [
    {
     "name": "stdout",
     "output_type": "stream",
     "text": [
      "a    1\n",
      "b    2\n",
      "c    3\n",
      "d    4\n",
      "e    5\n",
      "f    6\n",
      "dtype: int32\n"
     ]
    }
   ],
   "source": [
    "data=np.array([1,2,3,4,5,6])\n",
    "s=pd.Series(data,index=['a','b','c','d','e','f'])    #default indexing 0,1,2,3...\n",
    "\n",
    "print s"
   ]
  },
  {
   "cell_type": "markdown",
   "metadata": {},
   "source": [
    "# If data is an nd array index must be of the same length as data.If no index is passed ,one will be created having values [0,1,....len(data)-1]\n",
    "\n",
    "# [a,b,c,d,e] are labels that is y its called a labeled array"
   ]
  },
  {
   "cell_type": "code",
   "execution_count": 3,
   "metadata": {},
   "outputs": [
    {
     "name": "stdout",
     "output_type": "stream",
     "text": [
      "0    1\n",
      "1    2\n",
      "2    3\n",
      "3    4\n",
      "4    5\n",
      "5    6\n",
      "dtype: int32\n"
     ]
    }
   ],
   "source": [
    "s1=pd.Series(data)   #no Indexing is done\n",
    "print s1"
   ]
  },
  {
   "cell_type": "markdown",
   "metadata": {},
   "source": [
    "# Dictionary"
   ]
  },
  {
   "cell_type": "code",
   "execution_count": 4,
   "metadata": {},
   "outputs": [
    {
     "name": "stdout",
     "output_type": "stream",
     "text": [
      "a     1\n",
      "b    12\n",
      "c    23\n",
      "dtype: int64\n"
     ]
    }
   ],
   "source": [
    "data1={'a':1,'b':12,'c':23}     #a dictionary is a key value pair.\n",
    "c=pd.Series(data1)\n",
    "print c"
   ]
  },
  {
   "cell_type": "code",
   "execution_count": 5,
   "metadata": {},
   "outputs": [
    {
     "name": "stdout",
     "output_type": "stream",
     "text": [
      "b    12.0\n",
      "d     NaN\n",
      "a     1.0\n",
      "c    23.0\n",
      "dtype: float64\n"
     ]
    }
   ],
   "source": [
    "data2={'a':1,'b':12,'c':23}\n",
    "c=pd.Series(data2,index=['b','d','a','c'])  \n",
    "#extra index added (d)#type changed to float because of that and it shows not a number NaN\n",
    "print c"
   ]
  },
  {
   "cell_type": "markdown",
   "metadata": {},
   "source": [
    "# NaN is the standard missing data marker used in pandas"
   ]
  },
  {
   "cell_type": "markdown",
   "metadata": {},
   "source": [
    "# Scalar value\n",
    "\n",
    "## If data is a scalar value an index must be provided. The value will be repeated to match the length of index."
   ]
  },
  {
   "cell_type": "code",
   "execution_count": 6,
   "metadata": {},
   "outputs": [
    {
     "name": "stdout",
     "output_type": "stream",
     "text": [
      "0    5\n",
      "1    5\n",
      "2    5\n",
      "3    5\n",
      "dtype: int64\n",
      "0    5\n",
      "dtype: int64\n"
     ]
    }
   ],
   "source": [
    "d=pd.Series(5,index=[0,1,2,3])\n",
    "print d\n",
    "d=pd.Series(5)     #if index not given then only 1 value will be shown\n",
    "print d"
   ]
  },
  {
   "cell_type": "code",
   "execution_count": 7,
   "metadata": {},
   "outputs": [
    {
     "name": "stdout",
     "output_type": "stream",
     "text": [
      "a    1\n",
      "b    2\n",
      "c    3\n",
      "d    4\n",
      "e    5\n",
      "dtype: int64\n",
      "1\n",
      "a    1\n",
      "b    2\n",
      "dtype: int64\n",
      "1\n",
      "a    1\n",
      "c    3\n",
      "dtype: int64\n",
      "a    1\n",
      "b    2\n",
      "c    3\n",
      "dtype: int64\n"
     ]
    }
   ],
   "source": [
    "##Accessing data from series using label or default indexing\n",
    "s=pd.Series([1,2,3,4,5],index=('a','b','c','d','e'))\n",
    "print s\n",
    "print s['a']\n",
    "print s[['a','b']]\n",
    "\n",
    "print s[0]\n",
    "print s[[0,2]]\n",
    "print s[:3]"
   ]
  },
  {
   "cell_type": "code",
   "execution_count": 8,
   "metadata": {},
   "outputs": [
    {
     "name": "stdout",
     "output_type": "stream",
     "text": [
      "0    1\n",
      "1    3\n",
      "2    5\n",
      "3    7\n",
      "4    9\n",
      "dtype: int64\n"
     ]
    }
   ],
   "source": [
    "#other way to create a series\n",
    "v=pd.Series(range(1,10,2))\n",
    "print v"
   ]
  }
 ],
 "metadata": {
  "kernelspec": {
   "display_name": "Python 2",
   "language": "python",
   "name": "python2"
  },
  "language_info": {
   "codemirror_mode": {
    "name": "ipython",
    "version": 2
   },
   "file_extension": ".py",
   "mimetype": "text/x-python",
   "name": "python",
   "nbconvert_exporter": "python",
   "pygments_lexer": "ipython2",
   "version": "2.7.13"
  }
 },
 "nbformat": 4,
 "nbformat_minor": 2
}
