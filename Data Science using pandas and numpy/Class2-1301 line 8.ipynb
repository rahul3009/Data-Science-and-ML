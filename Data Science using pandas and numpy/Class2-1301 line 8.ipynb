{
 "cells": [
  {
   "cell_type": "code",
   "execution_count": 1,
   "metadata": {
    "collapsed": true
   },
   "outputs": [],
   "source": [
    "import numpy as np"
   ]
  },
  {
   "cell_type": "code",
   "execution_count": 2,
   "metadata": {},
   "outputs": [
    {
     "name": "stdout",
     "output_type": "stream",
     "text": [
      "[0 1 2 3 4 5]\n",
      "[3 4 5 6 7 8]\n"
     ]
    }
   ],
   "source": [
    "a=np.arange(6)\n",
    "b=np.arange(3,9)\n",
    "print a\n",
    "print b"
   ]
  },
  {
   "cell_type": "code",
   "execution_count": 3,
   "metadata": {},
   "outputs": [
    {
     "name": "stdout",
     "output_type": "stream",
     "text": [
      "[ 3  5  7  9 11 13]\n",
      "[-3 -3 -3 -3 -3 -3]\n",
      "[ 0.          0.25        0.4         0.5         0.57142857  0.625     ]\n",
      "[     0      1     32    729  16384 390625]\n",
      "[    1     4    25   216  2401 32768]\n"
     ]
    }
   ],
   "source": [
    "print a+b\n",
    "print a-b\n",
    "print a/b.astype(float)     # so as to get the values in float\n",
    "print a**b\n",
    "print b**a"
   ]
  },
  {
   "cell_type": "code",
   "execution_count": 4,
   "metadata": {
    "collapsed": true
   },
   "outputs": [],
   "source": [
    "c=np.array([[1,2],[3,4]],int)\n",
    "d=np.array([[5,6],[7,8]],int)"
   ]
  },
  {
   "cell_type": "code",
   "execution_count": 5,
   "metadata": {},
   "outputs": [
    {
     "name": "stdout",
     "output_type": "stream",
     "text": [
      "[[ 5 12]\n",
      " [21 32]]\n"
     ]
    }
   ],
   "source": [
    "print c*d                     #Element wise multiplication"
   ]
  },
  {
   "cell_type": "code",
   "execution_count": 6,
   "metadata": {},
   "outputs": [
    {
     "data": {
      "text/plain": [
       "array([[19, 22],\n",
       "       [43, 50]])"
      ]
     },
     "execution_count": 6,
     "metadata": {},
     "output_type": "execute_result"
    }
   ],
   "source": [
    "np.dot(c,d)                   #Matrix Multiplication"
   ]
  },
  {
   "cell_type": "code",
   "execution_count": 7,
   "metadata": {},
   "outputs": [
    {
     "name": "stdout",
     "output_type": "stream",
     "text": [
      "[1 2]\n",
      "[3 4]\n"
     ]
    }
   ],
   "source": [
    "for i in c:\n",
    "    print i"
   ]
  },
  {
   "cell_type": "code",
   "execution_count": 8,
   "metadata": {},
   "outputs": [
    {
     "name": "stdout",
     "output_type": "stream",
     "text": [
      "1 2\n",
      "3 4\n"
     ]
    }
   ],
   "source": [
    "for i,x in c:\n",
    "    print i,x"
   ]
  },
  {
   "cell_type": "code",
   "execution_count": 9,
   "metadata": {},
   "outputs": [
    {
     "data": {
      "text/plain": [
       "24"
      ]
     },
     "execution_count": 9,
     "metadata": {},
     "output_type": "execute_result"
    }
   ],
   "source": [
    "c.prod()"
   ]
  },
  {
   "cell_type": "code",
   "execution_count": 10,
   "metadata": {},
   "outputs": [
    {
     "name": "stdout",
     "output_type": "stream",
     "text": [
      "index_number:value\n",
      "3 : 1\n",
      "6 : 7\n"
     ]
    }
   ],
   "source": [
    "#find min and max\n",
    "a=np.array([3,4,2,1,4,5,7])\n",
    "print 'index_number:value'\n",
    "print a.argmin(),':',a.min()      # argmin gives the index number of minimum, min gives the value of minimum\n",
    "print a.argmax(),':',a.max()      # argmax gives the index number of maximum, max gives the value of maximum"
   ]
  },
  {
   "cell_type": "code",
   "execution_count": 5,
   "metadata": {},
   "outputs": [
    {
     "name": "stdout",
     "output_type": "stream",
     "text": [
      "(3L, 2L)\n",
      "[[ 5.  2.]\n",
      " [ 1. -1.]\n",
      " [ 3.  4.]]\n",
      "[[ 5.  2.  1.]\n",
      " [-1.  3.  4.]]\n"
     ]
    }
   ],
   "source": [
    "f=np.array([[5,2],[1,-1],[3,4]],float)\n",
    "print f.shape\n",
    "print f            # the dot with each element below denotes that its type is float\n",
    "f=f.reshape(2,3)\n",
    "print f"
   ]
  },
  {
   "cell_type": "code",
   "execution_count": 7,
   "metadata": {},
   "outputs": [
    {
     "name": "stdout",
     "output_type": "stream",
     "text": [
      "[[ 1.  2.  5.]\n",
      " [-1.  3.  4.]]\n",
      "[ 1.  2.  5.]\n"
     ]
    }
   ],
   "source": [
    "#sort\n",
    "f.sort()\n",
    "print f\n",
    "print f[0]     # first row"
   ]
  },
  {
   "cell_type": "code",
   "execution_count": 13,
   "metadata": {},
   "outputs": [
    {
     "name": "stdout",
     "output_type": "stream",
     "text": [
      "[[-1.  2.  4.]\n",
      " [ 1.  3.  5.]]\n"
     ]
    }
   ],
   "source": [
    "# to sort as per column\n",
    "f.sort(axis=0)            # here sorting is as per column\n",
    "print f"
   ]
  },
  {
   "cell_type": "code",
   "execution_count": 14,
   "metadata": {},
   "outputs": [
    {
     "name": "stdout",
     "output_type": "stream",
     "text": [
      "-1.0\n"
     ]
    }
   ],
   "source": [
    "print f[0].min()"
   ]
  },
  {
   "cell_type": "code",
   "execution_count": 8,
   "metadata": {},
   "outputs": [
    {
     "name": "stdout",
     "output_type": "stream",
     "text": [
      "min:,max: [ 1. -1.] [ 5.  4.]\n",
      "min:,max: [-1.  2.  4.] [ 1.  3.  5.]\n",
      "min:index,max:index [0 0] [2 2]\n"
     ]
    }
   ],
   "source": [
    "#for both rows minimum\n",
    "print 'min:,max:',f.min(axis=1),f.max(axis=1)       #will seek min and max in row 1 and row 2\n",
    "print 'min:,max:',f.min(axis=0),f.max(axis=0)       #will seek min and max in column 1 and column 2\n",
    "\n",
    "#to get the index\n",
    "print 'min:index,max:index',f.argmin(axis=1),f.argmax(axis=1)     #to get the indices"
   ]
  },
  {
   "cell_type": "code",
   "execution_count": 16,
   "metadata": {},
   "outputs": [
    {
     "name": "stdout",
     "output_type": "stream",
     "text": [
      "[[-1.  2.  4.]\n",
      " [ 1.  3.  5.]] <type 'numpy.ndarray'>\n",
      "1\n",
      "[-1.  2.  4.  1.  3.  5.] <type 'numpy.ndarray'>\n",
      "[-1.0, 1.0, 2.0, 3.0, 4.0, 5.0]\n"
     ]
    }
   ],
   "source": [
    "#We can also sort using sorted except we will get a list\n",
    "print f,type(f)\n",
    "x=f.flatten()   # sorted can only be applied on 1-D\n",
    "print x.ndim    #to get the dimension\n",
    "print x,type(x)\n",
    "x=sorted(x)\n",
    "print x"
   ]
  },
  {
   "cell_type": "code",
   "execution_count": 17,
   "metadata": {},
   "outputs": [
    {
     "name": "stdout",
     "output_type": "stream",
     "text": [
      "[[1 2 3]\n",
      " [4 5 6]\n",
      " [7 8 9]]\n",
      "[1 5 9]\n"
     ]
    },
    {
     "data": {
      "text/plain": [
       "array([1, 5, 9])"
      ]
     },
     "execution_count": 17,
     "metadata": {},
     "output_type": "execute_result"
    }
   ],
   "source": [
    "#extracted diagonal\n",
    "d=np.array([[1,2,3],[4,5,6],[7,8,9]])\n",
    "print d\n",
    "print d.diagonal()\n",
    "np.diag(d)"
   ]
  },
  {
   "cell_type": "code",
   "execution_count": 18,
   "metadata": {},
   "outputs": [
    {
     "name": "stdout",
     "output_type": "stream",
     "text": [
      "True\n",
      "False\n"
     ]
    }
   ],
   "source": [
    "# For Boolean Array, we use any and all to check whether some are true or all true\n",
    "c=np.array([False,True,False])\n",
    "print any(c)\n",
    "print all(c)"
   ]
  },
  {
   "cell_type": "code",
   "execution_count": 19,
   "metadata": {},
   "outputs": [
    {
     "name": "stdout",
     "output_type": "stream",
     "text": [
      "[1 2 3 4 5 6 7 8 9]\n",
      "(array([7, 8], dtype=int64),)\n"
     ]
    }
   ],
   "source": [
    "#where\n",
    "g=np.arange(1,10)\n",
    "print g\n",
    "print np.where(g>7)    #returns the index number where the value is greater than 7"
   ]
  },
  {
   "cell_type": "code",
   "execution_count": 20,
   "metadata": {},
   "outputs": [
    {
     "name": "stdout",
     "output_type": "stream",
     "text": [
      "(array([1, 2], dtype=int64),)\n"
     ]
    }
   ],
   "source": [
    "f=np.array([1,7,8],int)\n",
    "print np.where(f>1)  # the index numbers returned"
   ]
  },
  {
   "cell_type": "code",
   "execution_count": 21,
   "metadata": {},
   "outputs": [
    {
     "name": "stdout",
     "output_type": "stream",
     "text": [
      "[0 1 1 0 1]\n",
      "[5 6 9]\n"
     ]
    }
   ],
   "source": [
    "#if condition is supplied by arguements, then those are returned from x else from y\n",
    "f2=np.array([3,5,6,4,9],int)\n",
    "print np.where(f2>4,1,0)       # this checks each element if true then 1(as passed in where) is returned else 0 returned\n",
    "print f2[f2>4]"
   ]
  },
  {
   "cell_type": "code",
   "execution_count": 22,
   "metadata": {},
   "outputs": [
    {
     "name": "stdout",
     "output_type": "stream",
     "text": [
      "[ 6.  9.]\n",
      "[[ 6.  4.]\n",
      " [ 5.  9.]]\n"
     ]
    }
   ],
   "source": [
    "#array selectors for filtering and return =ing values not index\n",
    "h=np.array([[6,4],[5,9]],float)\n",
    "print h[h>=6]\n",
    "print h"
   ]
  },
  {
   "cell_type": "code",
   "execution_count": 23,
   "metadata": {},
   "outputs": [
    {
     "name": "stdout",
     "output_type": "stream",
     "text": [
      "[  1.   4.   5.   8.   9.   2.   3.   6.  15.  16.]\n",
      "[  1.   2.   3.   4.   5.   6.   8.   9.  15.  16.]\n",
      "median: 5.5\n",
      "6.9\n"
     ]
    }
   ],
   "source": [
    "#median\n",
    "med=np.array([1,4,5,8,9,2,3,6,15,16],float)\n",
    "print med \n",
    "med.sort()\n",
    "print med\n",
    "print 'median:',np.median(med)\n",
    "print np.mean(med)\n",
    "#here if we change the value of any by 10 or 100 times, then the median remains ame but the mean changes.\n",
    "#this value is called the outlier.\n"
   ]
  },
  {
   "cell_type": "code",
   "execution_count": 24,
   "metadata": {},
   "outputs": [
    {
     "name": "stdout",
     "output_type": "stream",
     "text": [
      "50.0\n",
      "[ 45.  50.  65.]\n",
      "[ 20.  50.  85.]\n"
     ]
    }
   ],
   "source": [
    "med1=np.array([[10,20,30],[45,50,65],[70,85,95]])\n",
    "print np.median(med1)\n",
    "print np.median(med1,axis=0)\n",
    "print np.median(med1,axis=1)"
   ]
  },
  {
   "cell_type": "code",
   "execution_count": 25,
   "metadata": {},
   "outputs": [
    {
     "name": "stdout",
     "output_type": "stream",
     "text": [
      "52.2222222222\n",
      "[ 41.66666667  51.66666667  63.33333333]\n",
      "[ 20.          53.33333333  83.33333333]\n"
     ]
    }
   ],
   "source": [
    "#mean\n",
    "print np.mean(med1)\n",
    "print np.mean(med1,axis=0)\n",
    "print np.mean(med1,axis=1)"
   ]
  },
  {
   "cell_type": "code",
   "execution_count": 27,
   "metadata": {},
   "outputs": [
    {
     "name": "stdout",
     "output_type": "stream",
     "text": [
      "[1 4 9]\n",
      "[1 4 9]\n"
     ]
    }
   ],
   "source": [
    "#power\n",
    "\n",
    "p1=np.array([1,2,3],int)\n",
    "print np.power(p1,2)\n",
    "print p1**2"
   ]
  },
  {
   "cell_type": "code",
   "execution_count": null,
   "metadata": {
    "collapsed": true
   },
   "outputs": [],
   "source": []
  }
 ],
 "metadata": {
  "kernelspec": {
   "display_name": "Python 2",
   "language": "python",
   "name": "python2"
  },
  "language_info": {
   "codemirror_mode": {
    "name": "ipython",
    "version": 2
   },
   "file_extension": ".py",
   "mimetype": "text/x-python",
   "name": "python",
   "nbconvert_exporter": "python",
   "pygments_lexer": "ipython2",
   "version": "2.7.13"
  }
 },
 "nbformat": 4,
 "nbformat_minor": 2
}
