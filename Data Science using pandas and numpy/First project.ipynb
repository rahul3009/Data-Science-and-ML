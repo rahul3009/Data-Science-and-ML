{
 "cells": [
  {
   "cell_type": "code",
   "execution_count": 2,
   "metadata": {
    "collapsed": true
   },
   "outputs": [],
   "source": [
    "import numpy as np"
   ]
  },
  {
   "cell_type": "code",
   "execution_count": 4,
   "metadata": {},
   "outputs": [
    {
     "name": "stdout",
     "output_type": "stream",
     "text": [
      "int32\n",
      "<type 'numpy.ndarray'>\n",
      "1\n",
      "[1 2 3 4]\n",
      "4\n"
     ]
    }
   ],
   "source": [
    "#Creationg array\n",
    "a=np.array([1,2,3,4])   #shift+tab for more options\n",
    "print a.dtype           #shows data type of elements in a\n",
    "print type(a)           #shows the type of a\n",
    "print a.ndim            #shows the dimentions of a\n",
    "print a                 #prints a\n",
    "print a.size            #for size of a"
   ]
  },
  {
   "cell_type": "code",
   "execution_count": 5,
   "metadata": {},
   "outputs": [
    {
     "name": "stdout",
     "output_type": "stream",
     "text": [
      "[ 2.  4.  6.  8.]\n",
      "[ 0.  0.  0.  0.]\n",
      "[ 1.  1.  1.  1.]\n",
      "[   1.    4.   27.  256.]\n",
      "[   1.    4.   27.  256.]\n"
     ]
    }
   ],
   "source": [
    "a=a.astype(float)       #changes the data type of values\n",
    "b=a                    #an array b will be created  as a copy of a\n",
    "\n",
    "#for these operations size of both the arrayswill be the same.\n",
    "print a+b\n",
    "print b-a\n",
    "print b/a\n",
    "print b**a\n",
    "print a**b"
   ]
  },
  {
   "cell_type": "code",
   "execution_count": 25,
   "metadata": {},
   "outputs": [
    {
     "name": "stdout",
     "output_type": "stream",
     "text": [
      "[[1 2 3]\n",
      " [4 5 6]]\n",
      "2\n",
      "2\n",
      "6\n"
     ]
    }
   ],
   "source": [
    "#2D Array\n",
    "\n",
    "b=np.array([[1,2,3],[4,5,6]])      #array of lists(list inside list)\n",
    "print b\n",
    "print b.ndim\n",
    "print b[0][1]                    #accessing of elements\n",
    "print b[1,2]"
   ]
  },
  {
   "cell_type": "code",
   "execution_count": 26,
   "metadata": {},
   "outputs": [
    {
     "name": "stdout",
     "output_type": "stream",
     "text": [
      "[4 5]\n",
      "[[2 3]\n",
      " [5 6]]\n",
      "[4 5 6]\n",
      "[[1]\n",
      " [4]]\n",
      "<type 'numpy.ndarray'>\n",
      "[[2]\n",
      " [5]] 2\n",
      "[[5 4]\n",
      " [2 1]]\n"
     ]
    }
   ],
   "source": [
    "print b[1,:2]\n",
    "print b[:2,1:3]\n",
    "print b[1,:]\n",
    "print b[:2,:1]\n",
    "c=b[:2,1:2]\n",
    "print type(c)\n",
    "print c,c.ndim\n",
    "print b[-1::-1,-2::-1]    "
   ]
  },
  {
   "cell_type": "code",
   "execution_count": 6,
   "metadata": {},
   "outputs": [
    {
     "name": "stdout",
     "output_type": "stream",
     "text": [
      "int32\n"
     ]
    }
   ],
   "source": [
    "#d type\n",
    "print b.dtype"
   ]
  },
  {
   "cell_type": "code",
   "execution_count": 7,
   "metadata": {},
   "outputs": [
    {
     "name": "stdout",
     "output_type": "stream",
     "text": [
      "[0 1 2 3 4 5 6 7 8]\n",
      "(3L, 3L)\n",
      "2\n",
      "[[0 1 2]\n",
      " [3 4 5]\n",
      " [6 7 8]]\n"
     ]
    }
   ],
   "source": [
    "c=np.array(range(9),int)     #makes a one D array\n",
    "print c\n",
    "c=c.reshape((3,3))\n",
    "print c.shape\n",
    "print c.ndim\n",
    "print c"
   ]
  },
  {
   "cell_type": "code",
   "execution_count": 8,
   "metadata": {},
   "outputs": [
    {
     "name": "stdout",
     "output_type": "stream",
     "text": [
      "[1.0, 2.0, 3.0] <type 'list'>\n",
      "[1.0, 2.0, 3.0]\n"
     ]
    }
   ],
   "source": [
    "#converting array to list\n",
    "k=np.array([1,2,3,],float)\n",
    "b=k.tolist()\n",
    "print b,type(b)\n",
    "print list(k)"
   ]
  },
  {
   "cell_type": "code",
   "execution_count": 9,
   "metadata": {},
   "outputs": [
    {
     "name": "stdout",
     "output_type": "stream",
     "text": [
      "[[ 0.  1.  2.]\n",
      " [ 3.  4.  5.]]\n",
      "[[ 0.  3.]\n",
      " [ 1.  4.]\n",
      " [ 2.  5.]]\n"
     ]
    }
   ],
   "source": [
    "#transpose of an array\n",
    "p=np.array(range(6),float).reshape((2,3))\n",
    "print p\n",
    "\n",
    "print p.transpose()"
   ]
  },
  {
   "cell_type": "code",
   "execution_count": 10,
   "metadata": {},
   "outputs": [
    {
     "name": "stdout",
     "output_type": "stream",
     "text": [
      "[ 0.  1.  2.  3.  4.  5.]\n"
     ]
    }
   ],
   "source": [
    "#creating one dimentional array from a multi dimentional one\n",
    "\n",
    "r=p.flatten()\n",
    "print r"
   ]
  },
  {
   "cell_type": "code",
   "execution_count": 11,
   "metadata": {},
   "outputs": [
    {
     "name": "stdout",
     "output_type": "stream",
     "text": [
      "[[ 1.  2.]\n",
      " [ 3.  4.]]\n",
      "[[ 5.  6.]\n",
      " [ 7.  8.]]\n"
     ]
    }
   ],
   "source": [
    "x=np.array([[1,2],[3,4]],float)      #generating a 2D array\n",
    "y=np.array([[5,6],[7,8]],float)\n",
    "print x\n",
    "print y"
   ]
  },
  {
   "cell_type": "code",
   "execution_count": 12,
   "metadata": {},
   "outputs": [
    {
     "name": "stdout",
     "output_type": "stream",
     "text": [
      "[[ 1.  2.]\n",
      " [ 3.  4.]\n",
      " [ 5.  6.]\n",
      " [ 7.  8.]]\n"
     ]
    },
    {
     "data": {
      "text/plain": [
       "(4L, 2L)"
      ]
     },
     "execution_count": 12,
     "metadata": {},
     "output_type": "execute_result"
    }
   ],
   "source": [
    "#in concatinaction by default axis=0  row-wise\n",
    "p=np.concatenate((x,y))\n",
    "print p\n",
    "p.shape"
   ]
  },
  {
   "cell_type": "code",
   "execution_count": 13,
   "metadata": {},
   "outputs": [
    {
     "name": "stdout",
     "output_type": "stream",
     "text": [
      "[[ 1.  2.  5.  6.]\n",
      " [ 3.  4.  7.  8.]]\n"
     ]
    }
   ],
   "source": [
    "print np.concatenate((x,y),axis=1)    #columns me add hoga\n"
   ]
  },
  {
   "cell_type": "code",
   "execution_count": 14,
   "metadata": {},
   "outputs": [
    {
     "name": "stdout",
     "output_type": "stream",
     "text": [
      "[[0 1 2]\n",
      " [3 4 5]]\n",
      "[ 0.  1.  2.  3.  4.  5.]\n",
      "[1 3 5]\n"
     ]
    }
   ],
   "source": [
    "#other ways to create an array\n",
    "\n",
    "#arange() returns an array\n",
    "\n",
    "t=np.arange(6)\n",
    "print t.reshape((2,3))\n",
    "t=t.astype(float)\n",
    "print t\n",
    "print np.arange(1,7,2)    #stop point is included"
   ]
  },
  {
   "cell_type": "code",
   "execution_count": 15,
   "metadata": {},
   "outputs": [
    {
     "name": "stdout",
     "output_type": "stream",
     "text": [
      "[1 1 1]\n",
      "[[ 1.  1.]\n",
      " [ 1.  1.]]\n"
     ]
    }
   ],
   "source": [
    "#zeroes and ones create array\n",
    "\n",
    "print np.ones(3,dtype=int)\n",
    "print np.ones((2,2))"
   ]
  },
  {
   "cell_type": "code",
   "execution_count": 6,
   "metadata": {},
   "outputs": [
    {
     "name": "stdout",
     "output_type": "stream",
     "text": [
      "[[ 0.  0.  0.]\n",
      " [ 0.  0.  0.]\n",
      " [ 0.  0.  0.]]\n"
     ]
    }
   ],
   "source": [
    "print np.zeros((3,3),dtype=float)"
   ]
  },
  {
   "cell_type": "code",
   "execution_count": 17,
   "metadata": {
    "collapsed": true
   },
   "outputs": [],
   "source": [
    "#zeros like and one's like"
   ]
  },
  {
   "cell_type": "code",
   "execution_count": 18,
   "metadata": {},
   "outputs": [
    {
     "name": "stdout",
     "output_type": "stream",
     "text": [
      "[[ 1.  0.  0.  0.]\n",
      " [ 0.  1.  0.  0.]\n",
      " [ 0.  0.  1.  0.]\n",
      " [ 0.  0.  0.  1.]]\n"
     ]
    }
   ],
   "source": [
    "#to create an identity matrix (2D array)\n",
    "print np.identity(4,dtype=float)"
   ]
  },
  {
   "cell_type": "code",
   "execution_count": 19,
   "metadata": {},
   "outputs": [
    {
     "name": "stdout",
     "output_type": "stream",
     "text": [
      "[[ 1.  1.]\n",
      " [ 1.  1.]]\n"
     ]
    }
   ],
   "source": [
    "c=np.empty((2,2))\n",
    "print c"
   ]
  },
  {
   "cell_type": "code",
   "execution_count": 7,
   "metadata": {},
   "outputs": [
    {
     "name": "stdout",
     "output_type": "stream",
     "text": [
      "(4L,) [ 0 10 20 30]\n",
      "1\n",
      "(4L, 1L) [[ 0]\n",
      " [10]\n",
      " [20]\n",
      " [30]]\n",
      "2\n"
     ]
    }
   ],
   "source": [
    "m=np.arange(0,40,10)\n",
    "print m.shape,m\n",
    "print m.ndim\n",
    "m=m[:,np.newaxis]   #to add a new axis\n",
    "print m.shape,m\n",
    "print m.ndim"
   ]
  },
  {
   "cell_type": "code",
   "execution_count": 21,
   "metadata": {},
   "outputs": [
    {
     "name": "stdout",
     "output_type": "stream",
     "text": [
      "[ 0.    0.25  0.5   0.75  1.  ]\n"
     ]
    }
   ],
   "source": [
    "\n",
    "c=np.linspace(0,1,5)    #5 equally spaced points\n",
    "#start,end,num-of-points\n",
    "print c"
   ]
  },
  {
   "cell_type": "code",
   "execution_count": null,
   "metadata": {
    "collapsed": true
   },
   "outputs": [],
   "source": []
  }
 ],
 "metadata": {
  "kernelspec": {
   "display_name": "Python 2",
   "language": "python",
   "name": "python2"
  },
  "language_info": {
   "codemirror_mode": {
    "name": "ipython",
    "version": 2
   },
   "file_extension": ".py",
   "mimetype": "text/x-python",
   "name": "python",
   "nbconvert_exporter": "python",
   "pygments_lexer": "ipython2",
   "version": "2.7.13"
  }
 },
 "nbformat": 4,
 "nbformat_minor": 2
}
