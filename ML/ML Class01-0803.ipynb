{
 "cells": [
  {
   "cell_type": "markdown",
   "metadata": {},
   "source": [
    "# Simple Linear Regression"
   ]
  },
  {
   "cell_type": "markdown",
   "metadata": {},
   "source": [
    "Linear regression is a linear or straight line relationship between the input variables (X) and the single output variable(Y)\n",
    "\n",
    "y=mx+b  -->y-Dependant variable\n",
    "           x-Independant Variable\n",
    "           m-Cofficient/rate/slope of line\n",
    "           b-y_intercept\n",
    "           "
   ]
  },
  {
   "cell_type": "code",
   "execution_count": 1,
   "metadata": {
    "collapsed": true
   },
   "outputs": [],
   "source": [
    "# Let us consider a dataset where we have a value of response y for every feature x:\n",
    "import numpy as np\n",
    "x=np.array([0,1,2,3,4,5,6,7,8,9])\n",
    "y=np.array([1,3,2,5,7,8,8,9,10,12])"
   ]
  },
  {
   "cell_type": "code",
   "execution_count": 2,
   "metadata": {},
   "outputs": [
    {
     "data": {
      "image/png": "[encoded data removed]",
      "text/plain": [
       "<matplotlib.figure.Figure at 0x98aea20>"
      ]
     },
     "metadata": {},
     "output_type": "display_data"
    }
   ],
   "source": [
    "import matplotlib.pyplot as plt\n",
    "plt.scatter(x,y,color='red')    #having a scatter plot\n",
    "plt.xlabel('x')\n",
    "plt.ylabel('y')\n",
    "plt.show()\n"
   ]
  },
  {
   "cell_type": "markdown",
   "metadata": {},
   "source": [
    "## Now the task is to find a line which fits best in above scatter plot so that we can predict the response for any feature value(i.e. a value of x not present in the data set)\n",
    "- This line is called regression line"
   ]
  },
  {
   "cell_type": "code",
   "execution_count": 3,
   "metadata": {
    "collapsed": true
   },
   "outputs": [],
   "source": [
    "#   m=mean(x)*mean(y)-mean(xy)/mean(x)^2-mean(x^2)\n",
    "# formula for b is\n",
    "# b=mean(y)-m*mean(x)"
   ]
  },
  {
   "cell_type": "code",
   "execution_count": 4,
   "metadata": {
    "collapsed": true
   },
   "outputs": [],
   "source": [
    "#### find m and b"
   ]
  },
  {
   "cell_type": "code",
   "execution_count": 5,
   "metadata": {
    "collapsed": true
   },
   "outputs": [],
   "source": [
    "def best_fit_slope(x,y):\n",
    "    m=(((np.mean(x)*np.mean(y))-np.mean(x*y))/\n",
    "        ((np.mean(x)**2)-np.mean(x**2)))\n",
    "    b=np.mean(y)-m*np.mean(x)\n",
    "    return m,b"
   ]
  },
  {
   "cell_type": "code",
   "execution_count": 6,
   "metadata": {},
   "outputs": [
    {
     "name": "stdout",
     "output_type": "stream",
     "text": [
      "1.1696969697 1.23636363636\n"
     ]
    }
   ],
   "source": [
    "m,b=best_fit_slope(x,y)\n",
    "print m,b"
   ]
  },
  {
   "cell_type": "code",
   "execution_count": 7,
   "metadata": {
    "collapsed": true
   },
   "outputs": [],
   "source": [
    "regression_line = [(m*i+b) for i in x]\n",
    "#regression_line"
   ]
  },
  {
   "cell_type": "code",
   "execution_count": 8,
   "metadata": {},
   "outputs": [
    {
     "data": {
      "text/plain": [
       "12.933333333333334"
      ]
     },
     "execution_count": 8,
     "metadata": {},
     "output_type": "execute_result"
    }
   ],
   "source": [
    "predict_x=10\n",
    "#y=mx+b\n",
    "predict_y=(m*predict_x)+b\n",
    "predict_y      #for a random value of x we predicted the value of y"
   ]
  },
  {
   "cell_type": "code",
   "execution_count": 11,
   "metadata": {},
   "outputs": [
    {
     "data": {
      "image/png": "[encoded data removed]",
      "text/plain": [
       "<matplotlib.figure.Figure at 0x928ada0>"
      ]
     },
     "metadata": {},
     "output_type": "display_data"
    }
   ],
   "source": [
    "# for visualisation\n",
    "plt.scatter(x,y,color='red')\n",
    "plt.scatter(predict_x,predict_y,color='g')\n",
    "plt.plot(x,regression_line)\n",
    "\n",
    "#putting labels\n",
    "plt.xlabel('x')\n",
    "plt.ylabel('y')\n",
    "plt.show()"
   ]
  },
  {
   "cell_type": "markdown",
   "metadata": {},
   "source": [
    "# R^2(Cofficient of determination):regression score function.\n",
    "- it has value from 0 to 1\n",
    "- if value close to 1 then it is our best fit\n",
    "- a model fits the data well if the difference between the observed values and the odels predicted values are small\n",
    "- The distance between the regression line y value and the data's y value is the error then we square it."
   ]
  },
  {
   "cell_type": "code",
   "execution_count": 13,
   "metadata": {},
   "outputs": [],
   "source": [
    "# r^2=1-(SE(line(y))/SE(mean(y)))   #SE-sum of squared error"
   ]
  },
  {
   "cell_type": "code",
   "execution_count": 20,
   "metadata": {
    "collapsed": true
   },
   "outputs": [],
   "source": [
    "def squared_error(ys_original,ys_line):\n",
    "    return sum((ys_line-ys_original)**2)"
   ]
  },
  {
   "cell_type": "code",
   "execution_count": 23,
   "metadata": {
    "collapsed": true
   },
   "outputs": [],
   "source": [
    "def coefficient_of_determination(ys_orig,ys_line):\n",
    "    y_mean_line=[np.mean(ys_orig) for y in ys_orig]\n",
    "    squared_error_regr=squared_error(ys_orig,ys_line)\n",
    "    squared_error_y_mean=squared_error(ys_orig,y_mean_line)\n",
    "    return 1-(squared_error_regr/squared_error_y_mean)"
   ]
  },
  {
   "cell_type": "code",
   "execution_count": 24,
   "metadata": {},
   "outputs": [
    {
     "name": "stdout",
     "output_type": "stream",
     "text": [
      "0.952538038614\n"
     ]
    }
   ],
   "source": [
    "r_squared=coefficient_of_determination(y,regression_line)\n",
    "print(r_squared)"
   ]
  },
  {
   "cell_type": "markdown",
   "metadata": {},
   "source": [
    "# Now using Scikit-Learn"
   ]
  },
  {
   "cell_type": "code",
   "execution_count": 27,
   "metadata": {},
   "outputs": [],
   "source": [
    "from sklearn.linear_model import LinearRegression\n",
    "from sklearn.metrics import r2_score"
   ]
  },
  {
   "cell_type": "code",
   "execution_count": 28,
   "metadata": {},
   "outputs": [
    {
     "data": {
      "text/plain": [
       "LinearRegression(copy_X=True, fit_intercept=True, n_jobs=1, normalize=False)"
      ]
     },
     "execution_count": 28,
     "metadata": {},
     "output_type": "execute_result"
    }
   ],
   "source": [
    "lg=LinearRegression()\n",
    "lg.fit(x.reshape(-1,1),y)       #x should not be 1D so we have to make it 2D"
   ]
  },
  {
   "cell_type": "code",
   "execution_count": 29,
   "metadata": {
    "collapsed": true
   },
   "outputs": [],
   "source": [
    "y_predict=lg.predict(10)"
   ]
  },
  {
   "cell_type": "code",
   "execution_count": 30,
   "metadata": {},
   "outputs": [
    {
     "data": {
      "text/plain": [
       "array([ 12.93333333])"
      ]
     },
     "execution_count": 30,
     "metadata": {},
     "output_type": "execute_result"
    }
   ],
   "source": [
    "y_predict"
   ]
  },
  {
   "cell_type": "code",
   "execution_count": 34,
   "metadata": {},
   "outputs": [],
   "source": [
    "a=np.array([1,2,3])     #for multiple prediction\n",
    "a=a.reshape(len(a),1)\n",
    "y_predict=lg.predict(a)"
   ]
  },
  {
   "cell_type": "code",
   "execution_count": 35,
   "metadata": {},
   "outputs": [
    {
     "data": {
      "text/plain": [
       "array([ 2.40606061,  3.57575758,  4.74545455])"
      ]
     },
     "execution_count": 35,
     "metadata": {},
     "output_type": "execute_result"
    }
   ],
   "source": [
    "y_predict"
   ]
  },
  {
   "cell_type": "code",
   "execution_count": 36,
   "metadata": {},
   "outputs": [
    {
     "name": "stdout",
     "output_type": "stream",
     "text": [
      "[ 1.16969697]\n",
      "1.23636363636\n"
     ]
    }
   ],
   "source": [
    "print lg.coef_\n",
    "print lg.intercept_"
   ]
  },
  {
   "cell_type": "code",
   "execution_count": 37,
   "metadata": {},
   "outputs": [
    {
     "data": {
      "text/plain": [
       "0.952538038613988"
      ]
     },
     "execution_count": 37,
     "metadata": {},
     "output_type": "execute_result"
    }
   ],
   "source": [
    "r2_score(y,lg.predict(x.reshape(-1,1)))    "
   ]
  }
 ],
 "metadata": {
  "kernelspec": {
   "display_name": "Python 2",
   "language": "python",
   "name": "python2"
  },
  "language_info": {
   "codemirror_mode": {
    "name": "ipython",
    "version": 2
   },
   "file_extension": ".py",
   "mimetype": "text/x-python",
   "name": "python",
   "nbconvert_exporter": "python",
   "pygments_lexer": "ipython2",
   "version": "2.7.13"
  }
 },
 "nbformat": 4,
 "nbformat_minor": 2
}
