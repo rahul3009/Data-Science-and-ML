{
 "cells": [
  {
   "cell_type": "code",
   "execution_count": 1,
   "metadata": {
    "collapsed": true
   },
   "outputs": [],
   "source": [
    "import pandas as pd\n",
    "import numpy as np"
   ]
  },
  {
   "cell_type": "code",
   "execution_count": 2,
   "metadata": {
    "collapsed": true
   },
   "outputs": [],
   "source": [
    "fname='assignment.xlsx'"
   ]
  },
  {
   "cell_type": "code",
   "execution_count": 3,
   "metadata": {
    "collapsed": true
   },
   "outputs": [],
   "source": [
    "master=pd.read_excel(fname)"
   ]
  },
  {
   "cell_type": "code",
   "execution_count": 4,
   "metadata": {},
   "outputs": [
    {
     "data": {
      "text/html": [
       "<div>\n",
       "<style>\n",
       "    .dataframe thead tr:only-child th {\n",
       "        text-align: right;\n",
       "    }\n",
       "\n",
       "    .dataframe thead th {\n",
       "        text-align: left;\n",
       "    }\n",
       "\n",
       "    .dataframe tbody tr th {\n",
       "        vertical-align: top;\n",
       "    }\n",
       "</style>\n",
       "<table border=\"1\" class=\"dataframe\">\n",
       "  <thead>\n",
       "    <tr style=\"text-align: right;\">\n",
       "      <th></th>\n",
       "      <th>DISTRICT NAME</th>\n",
       "      <th>MANDAL NAME</th>\n",
       "      <th>VILLAGE NAME</th>\n",
       "      <th>SCHOOL UDISE CODE</th>\n",
       "      <th>SCHOOL NAME</th>\n",
       "      <th>ADDRESS</th>\n",
       "      <th>AREA</th>\n",
       "      <th>SCHOOL CATEGORY</th>\n",
       "      <th>SCHOOL MANGEMENT</th>\n",
       "      <th>Enrolment</th>\n",
       "    </tr>\n",
       "  </thead>\n",
       "  <tbody>\n",
       "    <tr>\n",
       "      <th>0</th>\n",
       "      <td>SRIKAKULAM</td>\n",
       "      <td>VEERAGHATTAM</td>\n",
       "      <td>KADAKELLA</td>\n",
       "      <td>28110100101</td>\n",
       "      <td>MPPS KADAKELLA</td>\n",
       "      <td>KADAKELLA-KADAKELLA (VILL)-KADAKELLA(VILL)-VEE...</td>\n",
       "      <td>RURAL</td>\n",
       "      <td>1-Primary</td>\n",
       "      <td>33-MPP_ZPP SCHOOLS</td>\n",
       "      <td>54</td>\n",
       "    </tr>\n",
       "    <tr>\n",
       "      <th>1</th>\n",
       "      <td>SRIKAKULAM</td>\n",
       "      <td>VEERAGHATTAM</td>\n",
       "      <td>KAMBARA</td>\n",
       "      <td>28110100201</td>\n",
       "      <td>CBMAPS KAMBARA</td>\n",
       "      <td>KAMBARA-KAMBARA (VILL)-KAMBARA(VILL)-VEERAAGHA...</td>\n",
       "      <td>RURAL</td>\n",
       "      <td>1-Primary</td>\n",
       "      <td>35-Pvt.Aided</td>\n",
       "      <td>18</td>\n",
       "    </tr>\n",
       "    <tr>\n",
       "      <th>2</th>\n",
       "      <td>SRIKAKULAM</td>\n",
       "      <td>VEERAGHATTAM</td>\n",
       "      <td>KAMBARA</td>\n",
       "      <td>28110100203</td>\n",
       "      <td>MPUPS KAMBARA</td>\n",
       "      <td>KAMBARA-KAMBARA (VILL)-KAMBARA(VILL)-VEERAAGHA...</td>\n",
       "      <td>RURAL</td>\n",
       "      <td>2-Primary with Upper Primary</td>\n",
       "      <td>33-MPP_ZPP SCHOOLS</td>\n",
       "      <td>80</td>\n",
       "    </tr>\n",
       "    <tr>\n",
       "      <th>3</th>\n",
       "      <td>SRIKAKULAM</td>\n",
       "      <td>VEERAGHATTAM</td>\n",
       "      <td>KAMBARA</td>\n",
       "      <td>28110100204</td>\n",
       "      <td>ZPHS KAMBARA VALASA</td>\n",
       "      <td>KAMBARA VALASA-NADUKURU-KAMBARA(VILL)-VEERAAGH...</td>\n",
       "      <td>RURAL</td>\n",
       "      <td>7-Upper Pr. and Secondary</td>\n",
       "      <td>33-MPP_ZPP SCHOOLS</td>\n",
       "      <td>146</td>\n",
       "    </tr>\n",
       "    <tr>\n",
       "      <th>4</th>\n",
       "      <td>SRIKAKULAM</td>\n",
       "      <td>VEERAGHATTAM</td>\n",
       "      <td>DASUMANTHA PURAM</td>\n",
       "      <td>28110100301</td>\n",
       "      <td>MPUPS DASUMANTHAPURAM</td>\n",
       "      <td>DASUMANTHA PURAM-DASUMANTHA PURAM (VILL)-DASUM...</td>\n",
       "      <td>RURAL</td>\n",
       "      <td>2-Primary with Upper Primary</td>\n",
       "      <td>33-MPP_ZPP SCHOOLS</td>\n",
       "      <td>108</td>\n",
       "    </tr>\n",
       "  </tbody>\n",
       "</table>\n",
       "</div>"
      ],
      "text/plain": [
       "  DISTRICT NAME   MANDAL NAME      VILLAGE NAME  SCHOOL UDISE CODE  \\\n",
       "0    SRIKAKULAM  VEERAGHATTAM         KADAKELLA        28110100101   \n",
       "1    SRIKAKULAM  VEERAGHATTAM           KAMBARA        28110100201   \n",
       "2    SRIKAKULAM  VEERAGHATTAM           KAMBARA        28110100203   \n",
       "3    SRIKAKULAM  VEERAGHATTAM           KAMBARA        28110100204   \n",
       "4    SRIKAKULAM  VEERAGHATTAM  DASUMANTHA PURAM        28110100301   \n",
       "\n",
       "             SCHOOL NAME                                            ADDRESS  \\\n",
       "0         MPPS KADAKELLA  KADAKELLA-KADAKELLA (VILL)-KADAKELLA(VILL)-VEE...   \n",
       "1         CBMAPS KAMBARA  KAMBARA-KAMBARA (VILL)-KAMBARA(VILL)-VEERAAGHA...   \n",
       "2          MPUPS KAMBARA  KAMBARA-KAMBARA (VILL)-KAMBARA(VILL)-VEERAAGHA...   \n",
       "3    ZPHS KAMBARA VALASA  KAMBARA VALASA-NADUKURU-KAMBARA(VILL)-VEERAAGH...   \n",
       "4  MPUPS DASUMANTHAPURAM  DASUMANTHA PURAM-DASUMANTHA PURAM (VILL)-DASUM...   \n",
       "\n",
       "    AREA               SCHOOL CATEGORY    SCHOOL MANGEMENT  Enrolment  \n",
       "0  RURAL                     1-Primary  33-MPP_ZPP SCHOOLS         54  \n",
       "1  RURAL                     1-Primary        35-Pvt.Aided         18  \n",
       "2  RURAL  2-Primary with Upper Primary  33-MPP_ZPP SCHOOLS         80  \n",
       "3  RURAL     7-Upper Pr. and Secondary  33-MPP_ZPP SCHOOLS        146  \n",
       "4  RURAL  2-Primary with Upper Primary  33-MPP_ZPP SCHOOLS        108  "
      ]
     },
     "execution_count": 4,
     "metadata": {},
     "output_type": "execute_result"
    }
   ],
   "source": [
    "master.head()"
   ]
  },
  {
   "cell_type": "code",
   "execution_count": 5,
   "metadata": {},
   "outputs": [
    {
     "data": {
      "text/plain": [
       "DISTRICT NAME        object\n",
       "MANDAL NAME          object\n",
       "VILLAGE NAME         object\n",
       "SCHOOL UDISE CODE     int64\n",
       "SCHOOL NAME          object\n",
       "ADDRESS              object\n",
       "AREA                 object\n",
       "SCHOOL CATEGORY      object\n",
       "SCHOOL MANGEMENT     object\n",
       "Enrolment             int64\n",
       "dtype: object"
      ]
     },
     "execution_count": 5,
     "metadata": {},
     "output_type": "execute_result"
    }
   ],
   "source": [
    "master.dtypes"
   ]
  },
  {
   "cell_type": "code",
   "execution_count": 6,
   "metadata": {
    "collapsed": true
   },
   "outputs": [],
   "source": [
    "data=pd.read_excel(fname,sheetname='DATA Sheet')"
   ]
  },
  {
   "cell_type": "code",
   "execution_count": 7,
   "metadata": {},
   "outputs": [
    {
     "data": {
      "text/html": [
       "<div>\n",
       "<style>\n",
       "    .dataframe thead tr:only-child th {\n",
       "        text-align: right;\n",
       "    }\n",
       "\n",
       "    .dataframe thead th {\n",
       "        text-align: left;\n",
       "    }\n",
       "\n",
       "    .dataframe tbody tr th {\n",
       "        vertical-align: top;\n",
       "    }\n",
       "</style>\n",
       "<table border=\"1\" class=\"dataframe\">\n",
       "  <thead>\n",
       "    <tr style=\"text-align: right;\">\n",
       "      <th></th>\n",
       "      <th>District</th>\n",
       "      <th>Mandal</th>\n",
       "      <th>School UDISE Code</th>\n",
       "      <th>School Name</th>\n",
       "      <th>Enrollment</th>\n",
       "    </tr>\n",
       "  </thead>\n",
       "  <tbody>\n",
       "    <tr>\n",
       "      <th>0</th>\n",
       "      <td>Krishna</td>\n",
       "      <td>Chandarlapadu</td>\n",
       "      <td>28160501304</td>\n",
       "      <td>ZPHS Thotaravulapadu</td>\n",
       "      <td>NaN</td>\n",
       "    </tr>\n",
       "    <tr>\n",
       "      <th>1</th>\n",
       "      <td>Guntur</td>\n",
       "      <td>Amthurhaluru</td>\n",
       "      <td>28174900107</td>\n",
       "      <td>SKV HIGH SCHOOL KUCHIPUDI</td>\n",
       "      <td>NaN</td>\n",
       "    </tr>\n",
       "    <tr>\n",
       "      <th>2</th>\n",
       "      <td>Guntur</td>\n",
       "      <td>Amthurhaluru</td>\n",
       "      <td>28132102101</td>\n",
       "      <td>MPPS GOVADA</td>\n",
       "      <td>NaN</td>\n",
       "    </tr>\n",
       "    <tr>\n",
       "      <th>3</th>\n",
       "      <td>Guntur</td>\n",
       "      <td>Amthurhaluru</td>\n",
       "      <td>28174900102</td>\n",
       "      <td>MPPS NTR ROAD</td>\n",
       "      <td>NaN</td>\n",
       "    </tr>\n",
       "    <tr>\n",
       "      <th>4</th>\n",
       "      <td>Guntur</td>\n",
       "      <td>Ponnur</td>\n",
       "      <td>28174801906</td>\n",
       "      <td>ZPHS NANDURU</td>\n",
       "      <td>NaN</td>\n",
       "    </tr>\n",
       "  </tbody>\n",
       "</table>\n",
       "</div>"
      ],
      "text/plain": [
       "  District         Mandal  School UDISE Code                School Name  \\\n",
       "0  Krishna  Chandarlapadu        28160501304       ZPHS Thotaravulapadu   \n",
       "1   Guntur   Amthurhaluru        28174900107  SKV HIGH SCHOOL KUCHIPUDI   \n",
       "2   Guntur   Amthurhaluru        28132102101                MPPS GOVADA   \n",
       "3   Guntur   Amthurhaluru        28174900102              MPPS NTR ROAD   \n",
       "4   Guntur         Ponnur        28174801906               ZPHS NANDURU   \n",
       "\n",
       "   Enrollment   \n",
       "0          NaN  \n",
       "1          NaN  \n",
       "2          NaN  \n",
       "3          NaN  \n",
       "4          NaN  "
      ]
     },
     "execution_count": 7,
     "metadata": {},
     "output_type": "execute_result"
    }
   ],
   "source": [
    "data.head()"
   ]
  },
  {
   "cell_type": "code",
   "execution_count": 8,
   "metadata": {},
   "outputs": [
    {
     "data": {
      "text/plain": [
       "District              object\n",
       "Mandal                object\n",
       "School UDISE Code      int64\n",
       "School Name           object\n",
       "Enrollment           float64\n",
       "dtype: object"
      ]
     },
     "execution_count": 8,
     "metadata": {},
     "output_type": "execute_result"
    }
   ],
   "source": [
    "data.dtypes"
   ]
  },
  {
   "cell_type": "code",
   "execution_count": null,
   "metadata": {
    "collapsed": true
   },
   "outputs": [],
   "source": [
    "data=data.fillna({\n",
    "    'District':'none',\n",
    "    'Mandal':'none',\n",
    "    'School UDISE Code':0\n",
    "    'School Name':'none',\n",
    "    'Enrollment':master[master.]['Enrolment']\n",
    "})\n",
    "data"
   ]
  }
 ],
 "metadata": {
  "kernelspec": {
   "display_name": "Python 2",
   "language": "python",
   "name": "python2"
  },
  "language_info": {
   "codemirror_mode": {
    "name": "ipython",
    "version": 2
   },
   "file_extension": ".py",
   "mimetype": "text/x-python",
   "name": "python",
   "nbconvert_exporter": "python",
   "pygments_lexer": "ipython2",
   "version": "2.7.13"
  }
 },
 "nbformat": 4,
 "nbformat_minor": 2
}
